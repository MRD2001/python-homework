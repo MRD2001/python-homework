{
 "cells": [
  {
   "cell_type": "code",
   "execution_count": 1,
   "id": "486bfdde-5a7c-40de-adb0-0c85f32473b2",
   "metadata": {},
   "outputs": [],
   "source": [
    "\"\"\"\n",
    "This Python file is the solution to the homework of Week2\n",
    "\n",
    "the task is to create a Python script that analyzes the records to calculate each of the following:\n",
    "\n",
    "The input is a CSV File with two columns , month (date format) and Amount for P/L for that month.\n",
    "\n",
    " * The total number of months included in the dataset.\n",
    " * The net total amount of Profit/Losses over the entire period.\n",
    " * The average of the changes in Profit/Losses over the entire period.\n",
    " * The greatest increase in profits (date and amount) over the entire period.\n",
    " * The greatest decrease in losses (date and amount) over the entire period.\n",
    " \n",
    "We will then print the results to the terminal and write them to a text file in the same directory\n",
    " \"\"\"\n",
    "\n",
    "# Import the supporting library\n",
    "import csv\n",
    "\n",
    "# get the CSV file including the data.\n",
    "file_to_read= \"budget_data.csv\"\n"
   ]
  },
  {
   "cell_type": "code",
   "execution_count": 46,
   "id": "52b0dd78-ea2d-46f4-86fa-a06f6b8df227",
   "metadata": {},
   "outputs": [
    {
     "name": "stdout",
     "output_type": "stream",
     "text": [
      "Financial Analysis\n",
      "-----------------------------------\n",
      "Total Months: 86\n",
      "Total :  $38,382,578.00\n",
      "Avereage Change:  $-2,315.12\n",
      "Greatest Increase in Profits: Feb-2012 $1,926,159.00\n",
      "Greatest Decrease in Profits: Sep-2013 $-2,196,167.00\n"
     ]
    }
   ],
   "source": [
    "# Processing the file to get the statistics required in one cell\n",
    "\n",
    "# define a variable for the formatting to be used througout the code\n",
    "my_format = \"${:,.2f}\"\n",
    "\n",
    "# Read the csv and convert it into a list of dictionaries for easier handling\n",
    "\n",
    "with open(file_to_read) as profit_data:\n",
    "    reader = csv.reader(profit_data)\n",
    "\n",
    "    # skip the header row of the csv file\n",
    "    next(reader) \n",
    "    profit = []\n",
    "    date = []\n",
    "    profit_change = []\n",
    "\n",
    "    # Loop through the rows to count the number of months\n",
    "    # and sum the profit/losses column \n",
    "    for row in reader:\n",
    "\n",
    "        profit.append(float(row[1]))\n",
    "        date.append(row[0])\n",
    "\n",
    "    print(\"Financial Analysis\")\n",
    "    print(\"-----------------------------------\")\n",
    "    print(\"Total Months:\", len(date))\n",
    "    print(\"Total : \", my_format.format(sum(profit))) # with formating with comma separator and 2 decimals as a float\n",
    "    \n",
    "#total of difference between all row of column \"Profit/losses\" and found total change in profits\n",
    "#get the max profit change and min profit change (The greatest decrease in profits). \n",
    "#then get the month that the greatest increase and descrease happened\n",
    "\n",
    "    for i in range(1,len(profit)):\n",
    "        profit_change.append(profit[i] - profit[i-1])   \n",
    "        avg_profit_change = sum(profit_change)/len(profit_change)\n",
    "\n",
    "        max_profit_change = max(profit_change)\n",
    "\n",
    "        min_profit_change = min(profit_change)\n",
    "        \n",
    "        # has to got another row down to get the correct date for the required value\n",
    "        # the way we calculated the change \n",
    "        \n",
    "        change_date_max_index = profit_change.index(max(profit_change)) + 1\n",
    "        change_date_min_index = profit_change.index(min(profit_change)) + 1\n",
    "        \n",
    "        max_profit_change_date = str(date[change_date_max_index])\n",
    "        min_profit_change_date = str(date[change_date_min_index])\n",
    "        \n",
    "       \n",
    "    print(\"Avereage Change: \", my_format.format(round(avg_profit_change,2)))\n",
    "    print(\"Greatest Increase in Profits:\", max_profit_change_date, my_format.format(max_profit_change))\n",
    "    print(\"Greatest Decrease in Profits:\", min_profit_change_date, my_format.format(min_profit_change))\n",
    "\n",
    "        \n"
   ]
  },
  {
   "cell_type": "code",
   "execution_count": 48,
   "id": "b616e419-55d3-4285-9582-6a4fd16a1012",
   "metadata": {},
   "outputs": [],
   "source": [
    "# write the results into the text file \n",
    "# file was created using git \"touch\" in the same directory for simplicity\n",
    "\n",
    "\n",
    "file_to_write = \"fin_analysis.txt\"\n",
    "with open(file_to_write) as fin:\n",
    "    fout = open(file_to_write,'w')\n",
    "    fout.write('Financial Analysis\\n')\n",
    "    fout.write('-----------------------------------------\\n')\n",
    "    number_months = len(date)\n",
    "    fout.write('Total Months  :' + str(number_months) + '\\n')\n",
    "    fout.write('Total         :  ' + str(my_format.format(sum(profit))) + '\\n')\n",
    "    fout.write('Average change: ' + str(my_format.format(round(avg_profit_change,2))) + '\\n')\n",
    "    fout.write('Greatest Increase In Profits : On ' + str(max_profit_change_date) + ' By  ' + str(my_format.format(round(max_profit_change,2))) + '\\n')\n",
    "    fout.write('Greatest Decrease In Profits : On ' + str(min_profit_change_date) + ' By  ' + str(my_format.format(round(min_profit_change,2))) + '\\n')\n",
    "    fout.close()\n",
    "    "
   ]
  },
  {
   "cell_type": "code",
   "execution_count": null,
   "id": "cade31b5-ab7f-400e-80c2-a2d9588d2e27",
   "metadata": {},
   "outputs": [],
   "source": []
  }
 ],
 "metadata": {
  "kernelspec": {
   "display_name": "Python [conda env:root] *",
   "language": "python",
   "name": "conda-root-py"
  },
  "language_info": {
   "codemirror_mode": {
    "name": "ipython",
    "version": 3
   },
   "file_extension": ".py",
   "mimetype": "text/x-python",
   "name": "python",
   "nbconvert_exporter": "python",
   "pygments_lexer": "ipython3",
   "version": "3.8.8"
  }
 },
 "nbformat": 4,
 "nbformat_minor": 5
}
